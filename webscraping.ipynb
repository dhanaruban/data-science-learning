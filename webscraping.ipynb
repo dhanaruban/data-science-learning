{
  "nbformat": 4,
  "nbformat_minor": 0,
  "metadata": {
    "colab": {
      "name": "webscraping.ipynb",
      "version": "0.3.2",
      "provenance": [],
      "collapsed_sections": []
    },
    "kernelspec": {
      "name": "python3",
      "display_name": "Python 3"
    }
  },
  "cells": [
    {
      "metadata": {
        "id": "xHBxT5g3dOqi",
        "colab_type": "code",
        "outputId": "1c459571-5847-424a-d194-4e85599f421e",
        "colab": {
          "base_uri": "https://localhost:8080/",
          "height": 629
        }
      },
      "cell_type": "code",
      "source": [
        "import bs4\n",
        "from urllib.request import urlopen as uReq\n",
        "from bs4 import BeautifulSoup as soup\n",
        "my_url = 'https://www.newegg.com/Video-Cards-Video-Devices/Category/ID-38?Tpk=Graphic%20cards'\n",
        "uClient = uReq(my_url)\n",
        "page_html = uClient.read()\n",
        "uClient.close()\n",
        "page_soup = soup(page_html, \"html.parser\")\n",
        "#page_soup.h1\n",
        "#page_soup.p\n",
        "#page_soup.body.span\n",
        "containers =  page_soup.findAll(\"div\", {\"class\":\"item-container\"})\n",
        "\n",
        "filename = \"products.csv\"\n",
        "f=open(filename, \"w\")\n",
        "\n",
        "headers = \"brand, product_name, shipping\\n\"\n",
        "\n",
        "f.write(headers)\n",
        "\n",
        "for container in containers:\n",
        "  #print(container)\n",
        "  brands = container.findAll(\"div\", {\"class\": \"item-info\"})\n",
        "  #print(brands[0].div.a.img[\"title\"])\n",
        "  brand = brands[0].div.a.img[\"title\"]\n",
        "  title_container = container.findAll(\"a\", {\"class\": \"item-title\"})\n",
        "  product_name = title_container[0].text\n",
        "  shipping_container = container.findAll(\"li\", {\"class\": \"price-ship\"})\n",
        "  shipping = shipping_container[0].text.strip()\n",
        "  \n",
        "  print(\"Brand :\"+brand)\n",
        "  print(\"product_name :\"+product_name)\n",
        "  print(\"Shipping :\"+shipping)\n",
        "\n",
        "  f.write(brand + \",\" +product_name.replace(\",\",\"|\") + \",\" + shipping + \"\\n\")\n",
        "  \n",
        "f.close()\n",
        "\n"
      ],
      "execution_count": 0,
      "outputs": [
        {
          "output_type": "stream",
          "text": [
            "Brand :ASUS\n",
            "product_name :ASUS Expedition GeForce GTX 1060 EX-GTX1060-O6G Video Card\n",
            "Shipping :$3.99 Shipping\n",
            "Brand :MSI\n",
            "product_name :MSI Radeon RX 580 DirectX 12 RX 580 ARMOR MK2 8G OC Video Card\n",
            "Shipping :Free Shipping\n",
            "Brand :ASRock\n",
            "product_name :ASRock Phantom Gaming D Radeon RX 580 DirectX 12 RX580 8G OC Video Card\n",
            "Shipping :Free Shipping\n",
            "Brand :XFX\n",
            "product_name :XFX Radeon RX 590 Fatboy DirectX 12 RX-590P8DFD6 8GB 256-Bit DDR5 PCI Express 3.0 CrossFireX Support Video Card\n",
            "Shipping :Free Shipping\n",
            "Brand :EVGA\n",
            "product_name :EVGA GeForce GTX 1660 XC Ultra GAMING, 06G-P4-1167-KR, 6GB GDDR5, HDB Fan\n",
            "Shipping :Free Shipping\n",
            "Brand :ASRock\n",
            "product_name :ASRock Phantom Gaming X Radeon VII DirectX 12 Radeon VII 16G Video Card\n",
            "Shipping :$6.99 Shipping\n",
            "Brand :EVGA\n",
            "product_name :EVGA GeForce RTX 2070 XC GAMING, 08G-P4-2172-KR, 8GB GDDR6, Dual HDB Fans & RGB LED\n",
            "Shipping :Free Shipping\n",
            "Brand :MSI\n",
            "product_name :MSI GeForce RTX 2060 DirectX 12 RTX 2060 GAMING Z 6G Video Card\n",
            "Shipping :Free Shipping\n",
            "Brand :XFX\n",
            "product_name :XFX Radeon RX 580 DirectX 12 RX-580P8DFD6 XXX Edition 8GB 256-Bit GDDR5 PCI Express 3.0 CrossFireX Support Video Card\n",
            "Shipping :Free Shipping\n",
            "Brand :ZOTAC\n",
            "product_name :ZOTAC GAMING GeForce GTX 1660 6GB GDDR5 192-bit Gaming Graphics Card, Super Compact, ZT-T16600F-10L\n",
            "Shipping :Free Shipping\n",
            "Brand :ZOTAC\n",
            "product_name :ZOTAC GeForce GTX 1060 DirectX 12 ZT-P10620A-10M Video Card\n",
            "Shipping :Free Shipping\n",
            "Brand :GIGABYTE\n",
            "product_name :GIGABYTE GeForce RTX 2070 GAMING OC 8G Graphics Card, 3 x WINDFORCE Fans, 8GB 256-Bit GDDR6, GV-N2070GAMING OC-8GC Video Card\n",
            "Shipping :Free Shipping\n"
          ],
          "name": "stdout"
        }
      ]
    }
  ]
}